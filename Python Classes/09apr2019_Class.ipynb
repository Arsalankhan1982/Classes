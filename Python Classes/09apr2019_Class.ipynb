{
 "cells": [
  {
   "cell_type": "code",
   "execution_count": 5,
   "metadata": {},
   "outputs": [],
   "source": [
    "class Car():\n",
    "    def __init__(self, make, model, year):\n",
    "        self.make = make\n",
    "        self.model = model\n",
    "        self.year = year\n",
    "        \n",
    "    def get_details(self):\n",
    "        details = f'{self.model } {self.make } {self.year}'\n",
    "        return details"
   ]
  },
  {
   "cell_type": "code",
   "execution_count": 6,
   "metadata": {},
   "outputs": [],
   "source": [
    "new_car = Car(\"Honda\", \"Latest\", 2019)"
   ]
  },
  {
   "cell_type": "code",
   "execution_count": 7,
   "metadata": {},
   "outputs": [
    {
     "data": {
      "text/plain": [
       "'Honda'"
      ]
     },
     "execution_count": 7,
     "metadata": {},
     "output_type": "execute_result"
    }
   ],
   "source": [
    "new_car.make"
   ]
  },
  {
   "cell_type": "code",
   "execution_count": 8,
   "metadata": {},
   "outputs": [
    {
     "data": {
      "text/plain": [
       "'Latest Honda 2019'"
      ]
     },
     "execution_count": 8,
     "metadata": {},
     "output_type": "execute_result"
    }
   ],
   "source": [
    "new_car.get_details()"
   ]
  },
  {
   "cell_type": "code",
   "execution_count": 9,
   "metadata": {},
   "outputs": [],
   "source": [
    "new_car.make = \"Toyota\""
   ]
  },
  {
   "cell_type": "code",
   "execution_count": 10,
   "metadata": {},
   "outputs": [
    {
     "data": {
      "text/plain": [
       "'Toyota'"
      ]
     },
     "execution_count": 10,
     "metadata": {},
     "output_type": "execute_result"
    }
   ],
   "source": [
    "new_car.make"
   ]
  },
  {
   "cell_type": "code",
   "execution_count": 11,
   "metadata": {},
   "outputs": [
    {
     "data": {
      "text/plain": [
       "'Latest Toyota 2019'"
      ]
     },
     "execution_count": 11,
     "metadata": {},
     "output_type": "execute_result"
    }
   ],
   "source": [
    "new_car.get_details()"
   ]
  },
  {
   "cell_type": "markdown",
   "metadata": {},
   "source": [
    "# Default Attribute"
   ]
  },
  {
   "cell_type": "code",
   "execution_count": 181,
   "metadata": {},
   "outputs": [],
   "source": [
    "class Automobile():\n",
    "    def __init__(self, make, model, year):\n",
    "        self.make = make\n",
    "        self.model = model\n",
    "        self.year = year\n",
    "        self.odo = 0\n",
    "        self.fuel = 20\n",
    "        \n",
    "    def get_detail(self):\n",
    "        detail = f'{self.model } {self.make } {self.year}'\n",
    "        return detail\n",
    "    def read_odo(self):\n",
    "        print(\"this Car has \" + str(self.odo) + \" Miles on it\")\n",
    "    def update_odo(self, mileage):\n",
    "        if(mileage >= self.odo):\n",
    "            self.odo = mileage\n",
    "            print(\"Odometer has been updated\")\n",
    "        else:\n",
    "            print(\"Are You Gone Mad\")\n",
    "    def incre_odo(self,miles):\n",
    "        self.odo += miles\n",
    "        print(\"Your new reading \" + str(miles) + \" Miles\")\n",
    "    \n",
    "    def get_fuel(self):\n",
    "        print(\"This Car has \" + str(self.fuel) + \" Ltr Fuel\")\n",
    "        "
   ]
  },
  {
   "cell_type": "code",
   "execution_count": 182,
   "metadata": {},
   "outputs": [],
   "source": [
    "d_car = Automobile(\"honda\",\"Latest\",2019)"
   ]
  },
  {
   "cell_type": "code",
   "execution_count": 183,
   "metadata": {},
   "outputs": [
    {
     "name": "stdout",
     "output_type": "stream",
     "text": [
      "this Car has 0 Miles on it\n"
     ]
    }
   ],
   "source": [
    "d_car.read_odo()"
   ]
  },
  {
   "cell_type": "code",
   "execution_count": 184,
   "metadata": {},
   "outputs": [
    {
     "name": "stdout",
     "output_type": "stream",
     "text": [
      "Odometer has been updated\n"
     ]
    }
   ],
   "source": [
    "d_car.update_odo(30)"
   ]
  },
  {
   "cell_type": "code",
   "execution_count": 185,
   "metadata": {},
   "outputs": [
    {
     "name": "stdout",
     "output_type": "stream",
     "text": [
      "this Car has 30 Miles on it\n"
     ]
    }
   ],
   "source": [
    "d_car.read_odo()"
   ]
  },
  {
   "cell_type": "code",
   "execution_count": 186,
   "metadata": {},
   "outputs": [
    {
     "name": "stdout",
     "output_type": "stream",
     "text": [
      "Are You Gone Mad\n"
     ]
    }
   ],
   "source": [
    "d_car.update_odo(20)"
   ]
  },
  {
   "cell_type": "code",
   "execution_count": 187,
   "metadata": {},
   "outputs": [
    {
     "name": "stdout",
     "output_type": "stream",
     "text": [
      "Your new reading 50 Miles\n"
     ]
    }
   ],
   "source": [
    "d_car.incre_odo(50)"
   ]
  },
  {
   "cell_type": "code",
   "execution_count": 188,
   "metadata": {},
   "outputs": [
    {
     "name": "stdout",
     "output_type": "stream",
     "text": [
      "this Car has 80 Miles on it\n"
     ]
    }
   ],
   "source": [
    "d_car.read_odo()"
   ]
  },
  {
   "cell_type": "code",
   "execution_count": 189,
   "metadata": {},
   "outputs": [
    {
     "name": "stdout",
     "output_type": "stream",
     "text": [
      "Your new reading 20 Miles\n"
     ]
    }
   ],
   "source": [
    "d_car.incre_odo(20)"
   ]
  },
  {
   "cell_type": "code",
   "execution_count": 190,
   "metadata": {},
   "outputs": [
    {
     "name": "stdout",
     "output_type": "stream",
     "text": [
      "This Car has 20 Ltr Fuel\n"
     ]
    }
   ],
   "source": [
    "d_car.get_fuel()"
   ]
  },
  {
   "cell_type": "code",
   "execution_count": 205,
   "metadata": {},
   "outputs": [],
   "source": [
    "class Electric_car(Automobile):\n",
    "    def __init__(self, make, model, year, oil):\n",
    "        super().__init__(make, model, year)\n",
    "        self.battery = 70\n",
    "        self.oil = oil\n",
    "    def get_battery(self):\n",
    "        print(\"This car has \" + str(self.battery) + \"KWH\")\n",
    "    def get_fuel(self):\n",
    "        print(\"This car is an Electric Car\")"
   ]
  },
  {
   "cell_type": "code",
   "execution_count": 206,
   "metadata": {},
   "outputs": [],
   "source": [
    "my_old_car = Electric_car(\"Toyota\",\"Latest\",2018,\"3 Ltr\")"
   ]
  },
  {
   "cell_type": "code",
   "execution_count": 207,
   "metadata": {},
   "outputs": [
    {
     "data": {
      "text/plain": [
       "'Latest Toyota 2018'"
      ]
     },
     "execution_count": 207,
     "metadata": {},
     "output_type": "execute_result"
    }
   ],
   "source": [
    "my_old_car.get_detail()"
   ]
  },
  {
   "cell_type": "code",
   "execution_count": 209,
   "metadata": {},
   "outputs": [
    {
     "data": {
      "text/plain": [
       "'3 Ltr'"
      ]
     },
     "execution_count": 209,
     "metadata": {},
     "output_type": "execute_result"
    }
   ],
   "source": [
    "my_old_car.oil"
   ]
  },
  {
   "cell_type": "code",
   "execution_count": null,
   "metadata": {},
   "outputs": [],
   "source": []
  }
 ],
 "metadata": {
  "kernelspec": {
   "display_name": "Python 3",
   "language": "python",
   "name": "python3"
  },
  "language_info": {
   "codemirror_mode": {
    "name": "ipython",
    "version": 3
   },
   "file_extension": ".py",
   "mimetype": "text/x-python",
   "name": "python",
   "nbconvert_exporter": "python",
   "pygments_lexer": "ipython3",
   "version": "3.7.1"
  }
 },
 "nbformat": 4,
 "nbformat_minor": 2
}
