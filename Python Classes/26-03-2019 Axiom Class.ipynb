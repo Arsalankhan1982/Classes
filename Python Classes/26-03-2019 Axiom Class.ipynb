{
 "cells": [
  {
   "cell_type": "code",
   "execution_count": 2,
   "metadata": {},
   "outputs": [
    {
     "data": {
      "text/plain": [
       "[7,\n",
       " 14,\n",
       " 21,\n",
       " 28,\n",
       " 35,\n",
       " 42,\n",
       " 49,\n",
       " 56,\n",
       " 63,\n",
       " 70,\n",
       " 77,\n",
       " 84,\n",
       " 91,\n",
       " 98,\n",
       " 105,\n",
       " 112,\n",
       " 119,\n",
       " 126,\n",
       " 133,\n",
       " 140,\n",
       " 147,\n",
       " 154,\n",
       " 161,\n",
       " 168,\n",
       " 175,\n",
       " 182,\n",
       " 189,\n",
       " 196,\n",
       " 203,\n",
       " 210,\n",
       " 217,\n",
       " 224,\n",
       " 231,\n",
       " 238,\n",
       " 245,\n",
       " 252,\n",
       " 259,\n",
       " 266,\n",
       " 273,\n",
       " 280,\n",
       " 287,\n",
       " 294,\n",
       " 301,\n",
       " 308,\n",
       " 315,\n",
       " 322,\n",
       " 329,\n",
       " 336,\n",
       " 343,\n",
       " 350,\n",
       " 357,\n",
       " 364,\n",
       " 371,\n",
       " 378,\n",
       " 385,\n",
       " 392,\n",
       " 399,\n",
       " 406,\n",
       " 413,\n",
       " 420,\n",
       " 427,\n",
       " 434,\n",
       " 441,\n",
       " 448,\n",
       " 455,\n",
       " 462,\n",
       " 469,\n",
       " 476,\n",
       " 483,\n",
       " 490,\n",
       " 497,\n",
       " 504,\n",
       " 511,\n",
       " 518,\n",
       " 525,\n",
       " 532,\n",
       " 539,\n",
       " 546,\n",
       " 553,\n",
       " 560,\n",
       " 567,\n",
       " 574,\n",
       " 581,\n",
       " 588,\n",
       " 595,\n",
       " 602,\n",
       " 609,\n",
       " 616,\n",
       " 623,\n",
       " 630,\n",
       " 637,\n",
       " 644,\n",
       " 651,\n",
       " 658,\n",
       " 665,\n",
       " 672,\n",
       " 679,\n",
       " 686,\n",
       " 693,\n",
       " 700,\n",
       " 707,\n",
       " 714,\n",
       " 721,\n",
       " 728,\n",
       " 735,\n",
       " 742,\n",
       " 749,\n",
       " 756,\n",
       " 763,\n",
       " 770,\n",
       " 777,\n",
       " 784,\n",
       " 791,\n",
       " 798,\n",
       " 805,\n",
       " 812,\n",
       " 819,\n",
       " 826,\n",
       " 833,\n",
       " 840,\n",
       " 847,\n",
       " 854,\n",
       " 861,\n",
       " 868,\n",
       " 875,\n",
       " 882,\n",
       " 889,\n",
       " 896,\n",
       " 903,\n",
       " 910,\n",
       " 917,\n",
       " 924,\n",
       " 931,\n",
       " 938,\n",
       " 945,\n",
       " 952,\n",
       " 959,\n",
       " 966,\n",
       " 973,\n",
       " 980,\n",
       " 987,\n",
       " 994]"
      ]
     },
     "execution_count": 2,
     "metadata": {},
     "output_type": "execute_result"
    }
   ],
   "source": [
    "[x for x in range(1,1000) if x % 7 == 0 ]"
   ]
  },
  {
   "cell_type": "code",
   "execution_count": 7,
   "metadata": {},
   "outputs": [
    {
     "name": "stdout",
     "output_type": "stream",
     "text": [
      "7\n"
     ]
    }
   ],
   "source": [
    "break_list = [1,3,5,7,9]\n",
    "for x in break_list:\n",
    "    if x == 7:\n",
    "        print (x)\n",
    "        break"
   ]
  },
  {
   "cell_type": "code",
   "execution_count": 8,
   "metadata": {},
   "outputs": [
    {
     "name": "stdout",
     "output_type": "stream",
     "text": [
      "1\n",
      "3\n",
      "5\n",
      "7\n"
     ]
    }
   ],
   "source": [
    "break_list = [1,3,5,7,9]\n",
    "for x in break_list:\n",
    "    print(x)\n",
    "    if x == 7:\n",
    "        break"
   ]
  },
  {
   "cell_type": "code",
   "execution_count": 9,
   "metadata": {},
   "outputs": [
    {
     "name": "stdout",
     "output_type": "stream",
     "text": [
      "1\n",
      "3\n",
      "5\n"
     ]
    }
   ],
   "source": [
    "break_list = [1,3,5,7,9]\n",
    "for x in break_list:\n",
    "    if x == 7:\n",
    "        break\n",
    "    print(x)"
   ]
  },
  {
   "cell_type": "code",
   "execution_count": 16,
   "metadata": {},
   "outputs": [
    {
     "name": "stdout",
     "output_type": "stream",
     "text": [
      "1\n",
      "3\n",
      "5\n",
      "9\n"
     ]
    }
   ],
   "source": [
    "break_list = [1,3,5,7,9]\n",
    "for x in break_list:\n",
    "    if x == 7:\n",
    "        continue\n",
    "    print(x)"
   ]
  },
  {
   "cell_type": "code",
   "execution_count": 19,
   "metadata": {},
   "outputs": [
    {
     "name": "stdout",
     "output_type": "stream",
     "text": [
      "['Arsalan Khan', 'Arsalan Siddique', 'Arsalan Masood Baig', 'Arsalan Ahmed', ' Muhammad Danial Khan', ' Muhammad Danial Siddique', ' Muhammad Danial Masood Baig', ' Muhammad Danial Ahmed', 'Mirza Ansa Khan', 'Mirza Ansa Siddique', 'Mirza Ansa Masood Baig', 'Mirza Ansa Ahmed', 'Syed Zesshan Khan', 'Syed Zesshan Siddique', 'Syed Zesshan Masood Baig', 'Syed Zesshan Ahmed']\n"
     ]
    }
   ],
   "source": [
    "first_name = [\"Arsalan\", \" Muhammad Danial\", \"Mirza Ansa\", \"Syed Zesshan\"]\n",
    "last_name = [\"Khan\", \"Siddique\", \"Masood Baig\", \"Ahmed\"]\n",
    "full_name =[]\n",
    "\n",
    "for f in first_name:\n",
    "    for l in last_name:\n",
    "        full_name.append(f + \" \" + l)\n",
    "print(full_name)"
   ]
  },
  {
   "cell_type": "code",
   "execution_count": 22,
   "metadata": {},
   "outputs": [
    {
     "name": "stdout",
     "output_type": "stream",
     "text": [
      "2 * 1 = 2\n",
      "2 * 2 = 4\n",
      "2 * 3 = 6\n",
      "2 * 4 = 8\n",
      "2 * 5 = 10\n",
      "2 * 6 = 12\n",
      "2 * 7 = 14\n",
      "2 * 8 = 16\n",
      "2 * 9 = 18\n",
      "2 * 10 = 20\n"
     ]
    }
   ],
   "source": [
    "# table Assigmnent\n",
    "\n",
    "for t in range (1,11):\n",
    "    print (\"2 * \" + str(t) + \" = \" + str(t*2)  )"
   ]
  },
  {
   "cell_type": "code",
   "execution_count": 36,
   "metadata": {},
   "outputs": [
    {
     "name": "stdout",
     "output_type": "stream",
     "text": [
      "2  *  1  =  4\n",
      "2  *  2  =  4\n",
      "2  *  3  =  4\n",
      "2  *  4  =  4\n",
      "2  *  5  =  4\n",
      "2  *  6  =  4\n",
      "2  *  7  =  4\n",
      "2  *  8  =  4\n",
      "2  *  9  =  4\n",
      "2  *  10  =  4\n",
      "3  *  1  =  6\n",
      "3  *  2  =  6\n",
      "3  *  3  =  6\n",
      "3  *  4  =  6\n",
      "3  *  5  =  6\n",
      "3  *  6  =  6\n",
      "3  *  7  =  6\n",
      "3  *  8  =  6\n",
      "3  *  9  =  6\n",
      "3  *  10  =  6\n",
      "4  *  1  =  8\n",
      "4  *  2  =  8\n",
      "4  *  3  =  8\n",
      "4  *  4  =  8\n",
      "4  *  5  =  8\n",
      "4  *  6  =  8\n",
      "4  *  7  =  8\n",
      "4  *  8  =  8\n",
      "4  *  9  =  8\n",
      "4  *  10  =  8\n",
      "5  *  1  =  10\n",
      "5  *  2  =  10\n",
      "5  *  3  =  10\n",
      "5  *  4  =  10\n",
      "5  *  5  =  10\n",
      "5  *  6  =  10\n",
      "5  *  7  =  10\n",
      "5  *  8  =  10\n",
      "5  *  9  =  10\n",
      "5  *  10  =  10\n",
      "6  *  1  =  12\n",
      "6  *  2  =  12\n",
      "6  *  3  =  12\n",
      "6  *  4  =  12\n",
      "6  *  5  =  12\n",
      "6  *  6  =  12\n",
      "6  *  7  =  12\n",
      "6  *  8  =  12\n",
      "6  *  9  =  12\n",
      "6  *  10  =  12\n",
      "7  *  1  =  14\n",
      "7  *  2  =  14\n",
      "7  *  3  =  14\n",
      "7  *  4  =  14\n",
      "7  *  5  =  14\n",
      "7  *  6  =  14\n",
      "7  *  7  =  14\n",
      "7  *  8  =  14\n",
      "7  *  9  =  14\n",
      "7  *  10  =  14\n",
      "8  *  1  =  16\n",
      "8  *  2  =  16\n",
      "8  *  3  =  16\n",
      "8  *  4  =  16\n",
      "8  *  5  =  16\n",
      "8  *  6  =  16\n",
      "8  *  7  =  16\n",
      "8  *  8  =  16\n",
      "8  *  9  =  16\n",
      "8  *  10  =  16\n",
      "9  *  1  =  18\n",
      "9  *  2  =  18\n",
      "9  *  3  =  18\n",
      "9  *  4  =  18\n",
      "9  *  5  =  18\n",
      "9  *  6  =  18\n",
      "9  *  7  =  18\n",
      "9  *  8  =  18\n",
      "9  *  9  =  18\n",
      "9  *  10  =  18\n",
      "10  *  1  =  20\n",
      "10  *  2  =  20\n",
      "10  *  3  =  20\n",
      "10  *  4  =  20\n",
      "10  *  5  =  20\n",
      "10  *  6  =  20\n",
      "10  *  7  =  20\n",
      "10  *  8  =  20\n",
      "10  *  9  =  20\n",
      "10  *  10  =  20\n"
     ]
    }
   ],
   "source": [
    "for f in range (2,11):\n",
    "    for l in range (1,11):\n",
    "        print (f ,\" * \" , l  ,\" = \",  f*2  )"
   ]
  },
  {
   "cell_type": "code",
   "execution_count": 49,
   "metadata": {},
   "outputs": [
    {
     "name": "stdout",
     "output_type": "stream",
     "text": [
      "Please input your Table Number : 2\n",
      "Please input your Range Number : 4\n",
      "2  *  1  =  2\n",
      "2  *  2  =  4\n",
      "2  *  3  =  6\n",
      "2  *  4  =  8\n",
      "2  *  5  =  10\n",
      "2  *  6  =  12\n",
      "2  *  7  =  14\n",
      "2  *  8  =  16\n",
      "2  *  9  =  18\n",
      "2  *  10  =  20\n",
      "3  *  1  =  3\n",
      "3  *  2  =  6\n",
      "3  *  3  =  9\n",
      "3  *  4  =  12\n",
      "3  *  5  =  15\n",
      "3  *  6  =  18\n",
      "3  *  7  =  21\n",
      "3  *  8  =  24\n",
      "3  *  9  =  27\n",
      "3  *  10  =  30\n"
     ]
    }
   ],
   "source": [
    "f = int(input(\"Please input your Table Number : \"))\n",
    "l = int(input(\"Please input your Range Number : \"))\n",
    "for tab in range (f,l):\n",
    "    for ran in range (1,11):\n",
    "        print (tab ,\" * \" , ran  ,\" = \",  ran*tab  )\n",
    "    "
   ]
  },
  {
   "cell_type": "markdown",
   "metadata": {},
   "source": [
    "# Dictionaries"
   ]
  },
  {
   "cell_type": "code",
   "execution_count": 50,
   "metadata": {},
   "outputs": [],
   "source": [
    "# dct = {key:Value}   "
   ]
  },
  {
   "cell_type": "code",
   "execution_count": 76,
   "metadata": {},
   "outputs": [
    {
     "data": {
      "text/plain": [
       "{'a': 'Apple', 'b': 'Barka Apple'}"
      ]
     },
     "execution_count": 76,
     "metadata": {},
     "output_type": "execute_result"
    }
   ],
   "source": [
    "dct = {1:100,2:200,3:300, 4:400}\n",
    "dct1 = {\"a\":\"Apple\", \"b\":\"Barka Apple\"}\n",
    "dct2 = {1:\"a\",2:\"b\",3:\"c\"}\n",
    "dct3 = {\"Apple\":100, \"Barka Apple\":200}\n",
    "dct4 = {\"name\":[\"Arsalan\",\"Danial\",\"Zeeshan\",\"Anas\"], 1:9999}\n",
    "dct5 = {\"a1\":[dct,dct1,dct2,dct3,dct4]}   # List of Dictionaries\n",
    "dct6 = {1:{11:\"a\",22:\"abc\",33:\"c\"},2:\"1234567\"}\n",
    "\n",
    "dct\n",
    "dct5[\"a1\"][1]\n"
   ]
  },
  {
   "cell_type": "markdown",
   "metadata": {},
   "source": [
    "# json format is most famous format (json = Java Sript on notation)"
   ]
  },
  {
   "cell_type": "code",
   "execution_count": 77,
   "metadata": {},
   "outputs": [
    {
     "data": {
      "text/plain": [
       "'b'"
      ]
     },
     "execution_count": 77,
     "metadata": {},
     "output_type": "execute_result"
    }
   ],
   "source": [
    "dct6[1][22][1]"
   ]
  },
  {
   "cell_type": "code",
   "execution_count": 78,
   "metadata": {},
   "outputs": [],
   "source": [
    "dct7 = {\"1\":[\"asad\",\"Qwer\"], 2:\"saad\", 11:\"Danish\"}"
   ]
  },
  {
   "cell_type": "code",
   "execution_count": 79,
   "metadata": {},
   "outputs": [],
   "source": [
    "dct7[\"1\"].append(\"Arsalan\")"
   ]
  },
  {
   "cell_type": "code",
   "execution_count": 80,
   "metadata": {},
   "outputs": [
    {
     "data": {
      "text/plain": [
       "{'1': ['asad', 'Qwer', 'Arsalan'], 2: 'saad', 11: 'Danish'}"
      ]
     },
     "execution_count": 80,
     "metadata": {},
     "output_type": "execute_result"
    }
   ],
   "source": [
    "dct7"
   ]
  },
  {
   "cell_type": "code",
   "execution_count": 82,
   "metadata": {},
   "outputs": [],
   "source": [
    "dct8 = {\"a\":1,\"b\":2,\"c\":3,\"d\":4,\"e\":5,\"f\":6,\"g\":7,\"h\":8}"
   ]
  },
  {
   "cell_type": "code",
   "execution_count": 86,
   "metadata": {},
   "outputs": [
    {
     "name": "stdout",
     "output_type": "stream",
     "text": [
      "a 1\n",
      "b 2\n",
      "c 3\n",
      "d 4\n",
      "e 5\n",
      "f 6\n",
      "g 7\n",
      "h 8\n"
     ]
    }
   ],
   "source": [
    "for k,v in dct8.items():\n",
    "    print(k,v)"
   ]
  },
  {
   "cell_type": "code",
   "execution_count": 91,
   "metadata": {},
   "outputs": [
    {
     "name": "stdout",
     "output_type": "stream",
     "text": [
      "a\n",
      "b\n",
      "c\n",
      "d\n",
      "e\n",
      "f\n",
      "g\n",
      "h\n"
     ]
    }
   ],
   "source": [
    "for k in dct8.keys():\n",
    "    print (k)"
   ]
  },
  {
   "cell_type": "code",
   "execution_count": 92,
   "metadata": {},
   "outputs": [
    {
     "name": "stdout",
     "output_type": "stream",
     "text": [
      "1\n",
      "2\n",
      "3\n",
      "4\n",
      "5\n",
      "6\n",
      "7\n",
      "8\n"
     ]
    }
   ],
   "source": [
    "for k in dct8.keys():\n",
    "    print (dct8[k])"
   ]
  },
  {
   "cell_type": "code",
   "execution_count": 93,
   "metadata": {},
   "outputs": [
    {
     "name": "stdout",
     "output_type": "stream",
     "text": [
      "1\n",
      "2\n",
      "3\n",
      "4\n",
      "5\n",
      "6\n",
      "7\n",
      "8\n"
     ]
    }
   ],
   "source": [
    "for k in dct8.values():\n",
    "    print (k)\n"
   ]
  },
  {
   "cell_type": "code",
   "execution_count": null,
   "metadata": {},
   "outputs": [],
   "source": []
  }
 ],
 "metadata": {
  "kernelspec": {
   "display_name": "Python 3",
   "language": "python",
   "name": "python3"
  },
  "language_info": {
   "codemirror_mode": {
    "name": "ipython",
    "version": 3
   },
   "file_extension": ".py",
   "mimetype": "text/x-python",
   "name": "python",
   "nbconvert_exporter": "python",
   "pygments_lexer": "ipython3",
   "version": "3.7.1"
  }
 },
 "nbformat": 4,
 "nbformat_minor": 2
}
