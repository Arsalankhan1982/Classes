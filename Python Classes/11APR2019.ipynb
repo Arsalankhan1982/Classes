{
 "cells": [
  {
   "cell_type": "code",
   "execution_count": 76,
   "metadata": {},
   "outputs": [],
   "source": [
    "class Person():\n",
    "    def __init__(self, name, age, contact, status):\n",
    "        self.name = name\n",
    "        self.age = age\n",
    "        self.contact = contact\n",
    "        self.status = status\n",
    "        \n",
    "    def get_details(self):\n",
    "        details = f' {self.name}  {self.age}  {self.contact}  {self.status}'\n",
    "        return details\n",
    "    def get_name(self):\n",
    "        print(\"Name is \" + self.name)\n",
    "    def get_age(self):\n",
    "        print(\"age is \" + str(self.age))\n",
    "    def get_contact(self):\n",
    "        print(\"contact number is \" + str(self.contact))\n",
    "    def get_status(self):\n",
    "        print(\"Status\"+ self.status)\n",
    "class Paitent(Person):\n",
    "    def __init__(self, name, age, contact, status, location, issue):\n",
    "        super().__init__(name, age, contact, status)\n",
    "        self.location = location\n",
    "        self.issue = issue\n",
    "    def get_location(self):\n",
    "        print(\"Location is \" + self.location)\n",
    "    def get_issue(self):\n",
    "        print(\"Issue for Visting \" + self.issue)\n",
    "    def get_details(self):\n",
    "        details = f' {self.name}  {self.age}  {self.contact}  {self.status} {self.location} {self.issue}'\n",
    "        return details\n",
    "\n",
    "class Desease():\n",
    "    def __init__ (self,des):\n",
    "        self.des = des\n",
    "    \n",
    "    def get_des(self):\n",
    "        print(\"This Patient dignosis \" + self.des)\n",
    "        \n",
    "class Doctor(Person):\n",
    "    def __init__(self, name, age, contact, status, suffer, token):\n",
    "        super().__init__(name, age, contact, status)\n",
    "        self.suffer = suffer\n",
    "        self.token = token\n",
    "        self.des = Desease(\"Suger\")\n",
    "    def get_suffer(self):\n",
    "        print(\"Suffering due to \" + self.suffer)\n",
    "    def get_token(self):\n",
    "        print(\"Token number is \" + self.token)\n",
    "    def get_details(self):\n",
    "        details = f' {self.name}  {self.age}  {self.contact}  {self.status} {self.suffer} {self.token}'\n",
    "        return details    "
   ]
  },
  {
   "cell_type": "code",
   "execution_count": 77,
   "metadata": {},
   "outputs": [],
   "source": [
    "pa_I = Person(\"Arsalan\",37,923312510644,\"Patient\")"
   ]
  },
  {
   "cell_type": "code",
   "execution_count": 78,
   "metadata": {},
   "outputs": [
    {
     "data": {
      "text/plain": [
       "' Arsalan  37  923312510644  Patient'"
      ]
     },
     "execution_count": 78,
     "metadata": {},
     "output_type": "execute_result"
    }
   ],
   "source": [
    "pa_I.get_details()"
   ]
  },
  {
   "cell_type": "code",
   "execution_count": 79,
   "metadata": {},
   "outputs": [],
   "source": [
    "pa_II = Paitent (\"Arsalan\", 37, 923312510644,\"Patient\",\"Korangi\",\"Voumating\")"
   ]
  },
  {
   "cell_type": "code",
   "execution_count": 80,
   "metadata": {},
   "outputs": [
    {
     "data": {
      "text/plain": [
       "' Arsalan  37  923312510644  Patient Korangi Voumating'"
      ]
     },
     "execution_count": 80,
     "metadata": {},
     "output_type": "execute_result"
    }
   ],
   "source": [
    "pa_II.get_details()"
   ]
  },
  {
   "cell_type": "code",
   "execution_count": 81,
   "metadata": {},
   "outputs": [
    {
     "data": {
      "text/plain": [
       "' Arsalan  37  923312510644  Patient'"
      ]
     },
     "execution_count": 81,
     "metadata": {},
     "output_type": "execute_result"
    }
   ],
   "source": [
    "pa_I.get_details()"
   ]
  },
  {
   "cell_type": "code",
   "execution_count": 82,
   "metadata": {},
   "outputs": [],
   "source": [
    "pa_III = Doctor (\"Anas\", 40, 923142469982,\"Doctor\", \"Voumation\", 30)"
   ]
  },
  {
   "cell_type": "code",
   "execution_count": 83,
   "metadata": {},
   "outputs": [
    {
     "data": {
      "text/plain": [
       "' Anas  40  923142469982  Doctor Voumation 30'"
      ]
     },
     "execution_count": 83,
     "metadata": {},
     "output_type": "execute_result"
    }
   ],
   "source": [
    "pa_III.get_details()"
   ]
  },
  {
   "cell_type": "code",
   "execution_count": 84,
   "metadata": {},
   "outputs": [
    {
     "name": "stdout",
     "output_type": "stream",
     "text": [
      "This Patient dignosis Suger\n"
     ]
    }
   ],
   "source": [
    "pa_III.des.get_des()"
   ]
  },
  {
   "cell_type": "markdown",
   "metadata": {},
   "source": [
    "# Desease Class\n",
    "## Make Init (Name)\n",
    "### Define in Attribute\n",
    "\n",
    "### Method for printing Name\n"
   ]
  },
  {
   "cell_type": "code",
   "execution_count": 59,
   "metadata": {},
   "outputs": [],
   "source": []
  },
  {
   "cell_type": "code",
   "execution_count": null,
   "metadata": {},
   "outputs": [],
   "source": []
  }
 ],
 "metadata": {
  "kernelspec": {
   "display_name": "Python 3",
   "language": "python",
   "name": "python3"
  },
  "language_info": {
   "codemirror_mode": {
    "name": "ipython",
    "version": 3
   },
   "file_extension": ".py",
   "mimetype": "text/x-python",
   "name": "python",
   "nbconvert_exporter": "python",
   "pygments_lexer": "ipython3",
   "version": "3.7.1"
  }
 },
 "nbformat": 4,
 "nbformat_minor": 2
}
